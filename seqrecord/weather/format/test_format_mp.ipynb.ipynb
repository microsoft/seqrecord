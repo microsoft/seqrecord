{
 "cells": [
  {
   "cell_type": "code",
   "execution_count": 14,
   "metadata": {},
   "outputs": [],
   "source": [
    "%reload_ext autoreload\n",
    "%autoreload 2\n",
    "import os\n",
    "from seqrecord.weather.seqrecord import WSeqRecord\n",
    "dataset_mount_dir = \"/datadrive/weatherdatastorage2/datasets\"\n",
    "wseqrecord_dir =  os.path.join(dataset_mount_dir,\"CMIP6/MPI-ESM/wseqrecord/dev/5.625deg_equally_np_all_levels/train/\")\n",
    "record = WSeqRecord.gather_subseqrecords(wseqrecord_dir, world_size=4)\n",
    "record.dump(rank=None)"
   ]
  },
  {
   "cell_type": "code",
   "execution_count": 17,
   "metadata": {},
   "outputs": [],
   "source": [
    "loaded_record = WSeqRecord.load_record_from_dict(wseqrecord_dir, rank=None)"
   ]
  },
  {
   "cell_type": "code",
   "execution_count": null,
   "metadata": {},
   "outputs": [],
   "source": []
  }
 ],
 "metadata": {
  "kernelspec": {
   "display_name": "torch2",
   "language": "python",
   "name": "python3"
  },
  "language_info": {
   "codemirror_mode": {
    "name": "ipython",
    "version": 3
   },
   "file_extension": ".py",
   "mimetype": "text/x-python",
   "name": "python",
   "nbconvert_exporter": "python",
   "pygments_lexer": "ipython3",
   "version": "3.10.9"
  },
  "orig_nbformat": 4,
  "vscode": {
   "interpreter": {
    "hash": "87b346831055e8e89e5014ade8baee1f66472b91a9304fa18c3e17a59371b349"
   }
  }
 },
 "nbformat": 4,
 "nbformat_minor": 2
}
