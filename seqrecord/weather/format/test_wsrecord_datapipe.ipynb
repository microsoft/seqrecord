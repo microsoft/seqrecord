{
 "cells": [
  {
   "cell_type": "code",
   "execution_count": 62,
   "metadata": {},
   "outputs": [
    {
     "name": "stdout",
     "output_type": "stream",
     "text": [
      "The autoreload extension is already loaded. To reload it, use:\n",
      "  %reload_ext autoreload\n"
     ]
    }
   ],
   "source": [
    "# test encoded weather datasets (visually)\n",
    "%load_ext autoreload\n",
    "%autoreload 2\n",
    "import numpy as np\n",
    "import random\n",
    "from wseqrecorder.wseqrecord import WSeqRecord\n",
    "import itertools\n",
    "import os\n",
    "import re\n",
    "from typing import List\n",
    "\n",
    "def sort_weatherfiles(files: List[os.DirEntry]) -> List[os.DirEntry]:\n",
    "    \"\"\"Return sorted files in dir, make sure files are sorted incrementally in time.\n",
    "    # todo: check with Jayesh this sorting is correct\n",
    "    Example file names: 195001010600-195501010000_33.npz from CMIP6/MPI-ESM/1.40625deg_equally_np_all_levels/train/\n",
    "\n",
    "    Args:\n",
    "        files (List[os.DirEntry]): each element in list is a file name\n",
    "    \"\"\"\n",
    "\n",
    "    def str2nums(direntry):\n",
    "        nums = re.split(\"-|_\", direntry.name.split(\".\")[0])\n",
    "        nums = tuple(map(int, nums))\n",
    "        return nums\n",
    "\n",
    "    return sorted(files, key=str2nums)\n",
    "\n",
    "dataset_mount_dir = \"/datadrive/weatherdatastorage2/datasets\"\n",
    "wsrecord_dir = f\"{dataset_mount_dir}/CMIP6/MPI-ESM/wseqrecord/1.40625deg_equally_np_all_levels/train/\"\n",
    "wdataset_dir = f\"{dataset_mount_dir}/CMIP6/MPI-ESM/1.40625deg_equally_np_all_levels/train/\"\n",
    "\n",
    "num_frames_per_file = 146\n",
    "num_wdataset_files = 100\n",
    "wsrecord = WSeqRecord.load_record_from_dict(wsrecord_dir)\n",
    "\n",
    "files_dirs = os.scandir(wdataset_dir)\n",
    "files = list(filter(lambda direntry: direntry.is_file(), files_dirs))\n",
    "files = sort_weatherfiles(files)"
   ]
  },
  {
   "cell_type": "code",
   "execution_count": 63,
   "metadata": {},
   "outputs": [],
   "source": [
    "\n",
    "# utils to read wdataset\n",
    "def frame_from_wdataset(nth_frame:int, num_frames_per_file:int):\n",
    "    nth_file = nth_frame // num_frames_per_file\n",
    "    nth_frame_in_file = nth_frame % num_frames_per_file\n",
    "    assert nth_file < 100\n",
    "    file = files[nth_file]\n",
    "    print(f\"file that contains {nth_frame}-th frame is the {nth_file}-th file in dataset named {files[nth_file]}\")\n",
    "    data = np.load(file)\n",
    "    frame = {}\n",
    "    for key in data.files:\n",
    "        frame[key] = data[key][nth_frame_in_file]\n",
    "    return frame"
   ]
  },
  {
   "cell_type": "code",
   "execution_count": 60,
   "metadata": {},
   "outputs": [
    {
     "name": "stdout",
     "output_type": "stream",
     "text": [
      "{'frame_idx': 32, 'file_idx': 0, 'bytes_offset': 171966464, 't2m': {'is_none': False, 'dtype': dtype('float32'), 'shape': (1, 128, 256), 'bytes_offset': 0, 'nbytes': 131072}, 'u10': {'is_none': False, 'dtype': dtype('float32'), 'shape': (1, 128, 256), 'bytes_offset': 131072, 'nbytes': 131072}, 'v10': {'is_none': False, 'dtype': dtype('float32'), 'shape': (1, 128, 256), 'bytes_offset': 262144, 'nbytes': 131072}, 'z_50': {'is_none': False, 'dtype': dtype('float32'), 'shape': (1, 128, 256), 'bytes_offset': 393216, 'nbytes': 131072}, 'z_250': {'is_none': False, 'dtype': dtype('float32'), 'shape': (1, 128, 256), 'bytes_offset': 524288, 'nbytes': 131072}, 'z_500': {'is_none': False, 'dtype': dtype('float32'), 'shape': (1, 128, 256), 'bytes_offset': 655360, 'nbytes': 131072}, 'z_600': {'is_none': False, 'dtype': dtype('float32'), 'shape': (1, 128, 256), 'bytes_offset': 786432, 'nbytes': 131072}, 'z_700': {'is_none': False, 'dtype': dtype('float32'), 'shape': (1, 128, 256), 'bytes_offset': 917504, 'nbytes': 131072}, 'z_850': {'is_none': False, 'dtype': dtype('float32'), 'shape': (1, 128, 256), 'bytes_offset': 1048576, 'nbytes': 131072}, 'z_925': {'is_none': False, 'dtype': dtype('float32'), 'shape': (1, 128, 256), 'bytes_offset': 1179648, 'nbytes': 131072}, 'z_1000': {'is_none': False, 'dtype': dtype('float32'), 'shape': (1, 128, 256), 'bytes_offset': 1310720, 'nbytes': 131072}, 'u_50': {'is_none': False, 'dtype': dtype('float32'), 'shape': (1, 128, 256), 'bytes_offset': 1441792, 'nbytes': 131072}, 'u_250': {'is_none': False, 'dtype': dtype('float32'), 'shape': (1, 128, 256), 'bytes_offset': 1572864, 'nbytes': 131072}, 'u_500': {'is_none': False, 'dtype': dtype('float32'), 'shape': (1, 128, 256), 'bytes_offset': 1703936, 'nbytes': 131072}, 'u_600': {'is_none': False, 'dtype': dtype('float32'), 'shape': (1, 128, 256), 'bytes_offset': 1835008, 'nbytes': 131072}, 'u_700': {'is_none': False, 'dtype': dtype('float32'), 'shape': (1, 128, 256), 'bytes_offset': 1966080, 'nbytes': 131072}, 'u_850': {'is_none': False, 'dtype': dtype('float32'), 'shape': (1, 128, 256), 'bytes_offset': 2097152, 'nbytes': 131072}, 'u_925': {'is_none': False, 'dtype': dtype('float32'), 'shape': (1, 128, 256), 'bytes_offset': 2228224, 'nbytes': 131072}, 'v_50': {'is_none': False, 'dtype': dtype('float32'), 'shape': (1, 128, 256), 'bytes_offset': 2359296, 'nbytes': 131072}, 'v_250': {'is_none': False, 'dtype': dtype('float32'), 'shape': (1, 128, 256), 'bytes_offset': 2490368, 'nbytes': 131072}, 'v_500': {'is_none': False, 'dtype': dtype('float32'), 'shape': (1, 128, 256), 'bytes_offset': 2621440, 'nbytes': 131072}, 'v_600': {'is_none': False, 'dtype': dtype('float32'), 'shape': (1, 128, 256), 'bytes_offset': 2752512, 'nbytes': 131072}, 'v_700': {'is_none': False, 'dtype': dtype('float32'), 'shape': (1, 128, 256), 'bytes_offset': 2883584, 'nbytes': 131072}, 'v_850': {'is_none': False, 'dtype': dtype('float32'), 'shape': (1, 128, 256), 'bytes_offset': 3014656, 'nbytes': 131072}, 'v_925': {'is_none': False, 'dtype': dtype('float32'), 'shape': (1, 128, 256), 'bytes_offset': 3145728, 'nbytes': 131072}, 't_50': {'is_none': False, 'dtype': dtype('float32'), 'shape': (1, 128, 256), 'bytes_offset': 3276800, 'nbytes': 131072}, 't_250': {'is_none': False, 'dtype': dtype('float32'), 'shape': (1, 128, 256), 'bytes_offset': 3407872, 'nbytes': 131072}, 't_500': {'is_none': False, 'dtype': dtype('float32'), 'shape': (1, 128, 256), 'bytes_offset': 3538944, 'nbytes': 131072}, 't_600': {'is_none': False, 'dtype': dtype('float32'), 'shape': (1, 128, 256), 'bytes_offset': 3670016, 'nbytes': 131072}, 't_700': {'is_none': False, 'dtype': dtype('float32'), 'shape': (1, 128, 256), 'bytes_offset': 3801088, 'nbytes': 131072}, 't_850': {'is_none': False, 'dtype': dtype('float32'), 'shape': (1, 128, 256), 'bytes_offset': 3932160, 'nbytes': 131072}, 't_925': {'is_none': False, 'dtype': dtype('float32'), 'shape': (1, 128, 256), 'bytes_offset': 4063232, 'nbytes': 131072}, 't_1000': {'is_none': False, 'dtype': dtype('float32'), 'shape': (1, 128, 256), 'bytes_offset': 4194304, 'nbytes': 131072}, 'q_50': {'is_none': False, 'dtype': dtype('float32'), 'shape': (1, 128, 256), 'bytes_offset': 4325376, 'nbytes': 131072}, 'q_250': {'is_none': False, 'dtype': dtype('float32'), 'shape': (1, 128, 256), 'bytes_offset': 4456448, 'nbytes': 131072}, 'q_500': {'is_none': False, 'dtype': dtype('float32'), 'shape': (1, 128, 256), 'bytes_offset': 4587520, 'nbytes': 131072}, 'q_600': {'is_none': False, 'dtype': dtype('float32'), 'shape': (1, 128, 256), 'bytes_offset': 4718592, 'nbytes': 131072}, 'q_700': {'is_none': False, 'dtype': dtype('float32'), 'shape': (1, 128, 256), 'bytes_offset': 4849664, 'nbytes': 131072}, 'q_850': {'is_none': False, 'dtype': dtype('float32'), 'shape': (1, 128, 256), 'bytes_offset': 4980736, 'nbytes': 131072}, 'q_925': {'is_none': False, 'dtype': dtype('float32'), 'shape': (1, 128, 256), 'bytes_offset': 5111808, 'nbytes': 131072}, 'q_1000': {'is_none': False, 'dtype': dtype('float32'), 'shape': (1, 128, 256), 'bytes_offset': 5242880, 'nbytes': 131072}}\n"
     ]
    }
   ],
   "source": [
    "print(wsrecord.metadata[32])"
   ]
  },
  {
   "cell_type": "code",
   "execution_count": 64,
   "metadata": {},
   "outputs": [
    {
     "name": "stdout",
     "output_type": "stream",
     "text": [
      "0\n",
      "1\n",
      "2\n",
      "3\n",
      "4\n",
      "5\n",
      "6\n",
      "7\n",
      "8\n",
      "9\n",
      "10\n",
      "11\n",
      "12\n",
      "13\n",
      "14\n",
      "15\n",
      "16\n",
      "17\n",
      "18\n",
      "19\n",
      "20\n",
      "21\n",
      "22\n",
      "23\n",
      "24\n",
      "25\n",
      "26\n",
      "27\n",
      "28\n",
      "29\n",
      "30\n",
      "31\n",
      "32\n",
      "33\n",
      "34\n",
      "35\n",
      "36\n",
      "37\n",
      "38\n",
      "39\n",
      "40\n",
      "41\n",
      "42\n",
      "43\n",
      "44\n",
      "45\n",
      "46\n",
      "47\n",
      "48\n",
      "49\n",
      "50\n",
      "51\n",
      "52\n",
      "53\n",
      "54\n",
      "55\n",
      "56\n",
      "57\n",
      "58\n",
      "59\n",
      "60\n",
      "61\n",
      "62\n",
      "63\n",
      "64\n",
      "65\n",
      "66\n",
      "67\n",
      "68\n",
      "69\n",
      "70\n",
      "71\n",
      "72\n",
      "73\n",
      "74\n",
      "75\n",
      "76\n",
      "77\n",
      "78\n",
      "79\n",
      "80\n",
      "81\n",
      "82\n",
      "83\n",
      "84\n",
      "85\n",
      "86\n",
      "87\n",
      "88\n",
      "89\n",
      "90\n",
      "91\n",
      "92\n",
      "93\n",
      "94\n",
      "95\n",
      "96\n",
      "97\n",
      "98\n",
      "99\n",
      "100\n",
      "101\n",
      "102\n",
      "103\n",
      "104\n",
      "105\n",
      "106\n",
      "107\n",
      "108\n",
      "109\n",
      "110\n",
      "file that contains 110-th frame is the 0-th file in dataset named <DirEntry '185001010600-185501010000_0.npz'>\n"
     ]
    }
   ],
   "source": [
    "# load arbitrary nth frame and compare against the original frame in npy dataset\n",
    "\n",
    "features = [\"t2m\",\"u10\",\"v10\"]\n",
    "target_features = [\"z_50\", \"z_250\", \"z_500\"]\n",
    "\n",
    "nth_frame = 110 #random.randint(0, num_frames_per_file * num_wdataset_files -1)\n",
    "\n",
    "frame_wsrecord = next(itertools.islice(wsrecord.iterate_frames(features), nth_frame, num_frames_per_file*num_wdataset_files -1))\n",
    "frame_wdataset = frame_from_wdataset(nth_frame, num_frames_per_file)\n",
    "\n",
    "for key in frame_wsrecord:\n",
    "    np.testing.assert_equal(frame_wsrecord[key], frame_wdataset[key], err_msg = \"\", verbose=True)\n"
   ]
  },
  {
   "cell_type": "code",
   "execution_count": 72,
   "metadata": {},
   "outputs": [
    {
     "name": "stdout",
     "output_type": "stream",
     "text": [
      "file that contains 168-th frame is the 1-th file in dataset named <DirEntry '185001010600-185501010000_1.npz'>\n",
      "file that contains 189-th frame is the 1-th file in dataset named <DirEntry '185001010600-185501010000_1.npz'>\n"
     ]
    }
   ],
   "source": [
    "# load arbitrary nth framec pairs\n",
    "\n",
    "features = [\"t2m\",\"u10\",\"v10\"]\n",
    "target_features = [\"z_50\", \"z_250\", \"z_500\"]\n",
    "\n",
    "nth_frame = 168 # random.randint(0, num_frames_per_file * num_wdataset_files -2)\n",
    "\n",
    "frame_wsrecord, target_frame_wsrecord, lookahead_steps = next(itertools.islice(wsrecord.iterate_frame_pairs(features, target_features, 28), nth_frame, num_frames_per_file * num_wdataset_files-2))\n",
    "frame_wdataset = frame_from_wdataset(nth_frame, num_frames_per_file)\n",
    "target_frame_wdataset = frame_from_wdataset(nth_frame + lookahead_steps, num_frames_per_file)\n",
    "for key in frame_wsrecord:\n",
    "    np.testing.assert_equal(frame_wsrecord[key], frame_wdataset[key], err_msg = \"\", verbose=True)\n",
    "for key in target_frame_wsrecord:\n",
    "    np.testing.assert_equal(target_frame_wsrecord[key], target_frame_wdataset[key], err_msg=\"\", verbose=True)"
   ]
  },
  {
   "cell_type": "code",
   "execution_count": 24,
   "metadata": {},
   "outputs": [
    {
     "name": "stdout",
     "output_type": "stream",
     "text": [
      "dict_keys(['recorddir', 'features_written', 'num_bytes', 'idx_range_of_files', 'file_desc', 'metadata', 'frame_idx', 'num_frames', 'num_files'])\n"
     ]
    }
   ],
   "source": [
    "# test\n",
    "import pickle\n",
    "file_path = os.path.join(wsrecord_dir, \"record.dict\")\n",
    "with open(file_path, mode=\"rb\") as f:\n",
    "    obj_dict = pickle.load(f)\n",
    "print(obj_dict.keys())"
   ]
  },
  {
   "cell_type": "code",
   "execution_count": 25,
   "metadata": {},
   "outputs": [
    {
     "name": "stdout",
     "output_type": "stream",
     "text": [
      "157\n"
     ]
    }
   ],
   "source": [
    "print(obj_dict['num_files'])"
   ]
  },
  {
   "cell_type": "code",
   "execution_count": 1,
   "metadata": {},
   "outputs": [],
   "source": [
    "from typing import List, Tuple\n",
    "def distribute_loads(works: int, num_processes: int) -> List[Tuple[int, int]]:\n",
    "    \"\"\"Given the overall works and number of processes, allocate evenly the loads that each process should take.\n",
    "\n",
    "    Args:\n",
    "        works (int): amount of over all work\n",
    "        num_processes (int): number of processes available\n",
    "\n",
    "    Returns:\n",
    "        List[Tuple[int, int]]: indices of work each process is responsible for\n",
    "    \"\"\"\n",
    "    assert works >= num_processes, \"The amount of works is less than number of processes.\"\n",
    "    ans = []\n",
    "    start = 0\n",
    "    loads_per_process = round(works / num_processes)\n",
    "    for i in range(num_processes):\n",
    "        end = start + loads_per_process if i < num_processes - 1 else works\n",
    "        ans.append((start, end))\n",
    "        start = end\n",
    "    return ans"
   ]
  },
  {
   "cell_type": "code",
   "execution_count": 3,
   "metadata": {},
   "outputs": [
    {
     "data": {
      "text/plain": [
       "[(0, 1), (1, 2), (2, 4)]"
      ]
     },
     "execution_count": 3,
     "metadata": {},
     "output_type": "execute_result"
    }
   ],
   "source": [
    "distribute_loads(4, 3)"
   ]
  },
  {
   "cell_type": "code",
   "execution_count": null,
   "metadata": {},
   "outputs": [],
   "source": []
  }
 ],
 "metadata": {
  "kernelspec": {
   "display_name": "climate",
   "language": "python",
   "name": "python3"
  },
  "language_info": {
   "codemirror_mode": {
    "name": "ipython",
    "version": 3
   },
   "file_extension": ".py",
   "mimetype": "text/x-python",
   "name": "python",
   "nbconvert_exporter": "python",
   "pygments_lexer": "ipython3",
   "version": "3.10.9"
  },
  "orig_nbformat": 4,
  "vscode": {
   "interpreter": {
    "hash": "b9d7d6c80262322a6ef062bd932675fc600912e1e6e62dc5516173a19b355c70"
   }
  }
 },
 "nbformat": 4,
 "nbformat_minor": 2
}
